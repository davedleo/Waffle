{
 "cells": [
  {
   "cell_type": "code",
   "execution_count": 1,
   "metadata": {},
   "outputs": [
    {
     "name": "stdout",
     "output_type": "stream",
     "text": [
      "Tokenized sample: ['interested', 'purchasing', 'grayscale', 'printer', 'offers', 'good', 'resoltuion', 'grayscale', 'medical', 'images', 'anybody', 'recommendations', 'products', 'market', 'particular', 'thank', 'advice']\n",
      "Label: 0\n"
     ]
    }
   ],
   "source": [
    "import numpy as np\n",
    "import re\n",
    "from sklearn.datasets import fetch_20newsgroups\n",
    "from sklearn.model_selection import train_test_split\n",
    "from sklearn.preprocessing import LabelEncoder\n",
    "from sklearn.feature_extraction.text import ENGLISH_STOP_WORDS\n",
    "\n",
    "# Load dataset\n",
    "categories = ['sci.space', 'rec.autos', 'comp.graphics', 'talk.politics.misc']  # optional\n",
    "data = fetch_20newsgroups(subset='all', categories=categories, remove=('headers', 'footers', 'quotes'))\n",
    "\n",
    "texts = data['data']\n",
    "labels = data['target']\n",
    "\n",
    "# Define basic tokenizer and cleaner (no nltk)\n",
    "def preprocess(text):\n",
    "    text = text.lower()                               # lowercase\n",
    "    text = re.sub(r'[^a-z\\s]', '', text)              # remove punctuation/numbers\n",
    "    tokens = text.split()                             # simple whitespace tokenization\n",
    "    tokens = [word for word in tokens if word not in ENGLISH_STOP_WORDS]  # remove stopwords\n",
    "    return tokens\n",
    "\n",
    "# Apply preprocessing\n",
    "tokenized_texts = [preprocess(doc) for doc in texts]\n",
    "\n",
    "# Encode labels\n",
    "label_encoder = LabelEncoder()\n",
    "y = label_encoder.fit_transform(labels)\n",
    "\n",
    "# Train/test split\n",
    "X_train_tokens, X_test_tokens, y_train, y_test = train_test_split(tokenized_texts, y, test_size=0.2, random_state=42)\n",
    "\n",
    "# Example output\n",
    "print(\"Tokenized sample:\", X_train_tokens[0])\n",
    "print(\"Label:\", y_train[0])"
   ]
  },
  {
   "cell_type": "code",
   "execution_count": 2,
   "metadata": {},
   "outputs": [],
   "source": [
    "from collections import defaultdict\n",
    "from torch.nn.utils.rnn import pad_sequence\n",
    "import torch\n",
    "\n",
    "# Build vocabulary\n",
    "word2idx = {'<PAD>': 0, '<UNK>': 1}\n",
    "idx = 2\n",
    "for tokens in X_train_tokens:\n",
    "    for token in tokens:\n",
    "        if token not in word2idx:\n",
    "            word2idx[token] = idx\n",
    "            idx += 1\n",
    "\n",
    "# Encode tokens\n",
    "def encode(tokens):\n",
    "    return [word2idx.get(token, word2idx['<UNK>']) for token in tokens]\n",
    "\n",
    "X_train_ids = [torch.tensor(encode(tokens)) for tokens in X_train_tokens]\n",
    "X_test_ids = [torch.tensor(encode(tokens)) for tokens in X_test_tokens]"
   ]
  },
  {
   "cell_type": "code",
   "execution_count": 4,
   "metadata": {},
   "outputs": [],
   "source": [
    "# Pad sequences to same length (batch dimension first)\n",
    "X_train_padded = pad_sequence(X_train_ids, batch_first=True, padding_value=0)\n",
    "X_test_padded = pad_sequence(X_test_ids, batch_first=True, padding_value=0)"
   ]
  },
  {
   "cell_type": "code",
   "execution_count": 8,
   "metadata": {},
   "outputs": [
    {
     "name": "stdout",
     "output_type": "stream",
     "text": [
      "Downloading GloVe embeddings...\n",
      "Extracting...\n",
      "GloVe download and extraction complete.\n"
     ]
    }
   ],
   "source": [
    "import os\n",
    "import zipfile\n",
    "import urllib.request\n",
    "import numpy as np\n",
    "import torch\n",
    "import torch.nn as nn\n",
    "\n",
    "# === Step 1: Download GloVe if not already present ===\n",
    "glove_dir = './glove'\n",
    "glove_zip_path = os.path.join(glove_dir, 'glove.6B.zip')\n",
    "glove_txt_path = os.path.join(glove_dir, 'glove.6B.100d.txt')\n",
    "\n",
    "os.makedirs(glove_dir, exist_ok=True)\n",
    "\n",
    "if not os.path.exists(glove_txt_path):\n",
    "    print(\"Downloading GloVe embeddings...\")\n",
    "    url = 'http://nlp.stanford.edu/data/glove.6B.zip'\n",
    "    urllib.request.urlretrieve(url, glove_zip_path)\n",
    "    print(\"Extracting...\")\n",
    "    with zipfile.ZipFile(glove_zip_path, 'r') as zip_ref:\n",
    "        zip_ref.extractall(glove_dir)\n",
    "    print(\"GloVe download and extraction complete.\")\n",
    "else:\n",
    "    print(\"GloVe already downloaded.\")\n",
    "\n",
    "# === Step 2: Load GloVe into dictionary ===\n",
    "embedding_index = {}\n",
    "with open(glove_txt_path, encoding='utf-8') as f:\n",
    "    for line in f:\n",
    "        values = line.split()\n",
    "        word = values[0]\n",
    "        vector = np.array(values[1:], dtype='float32')\n",
    "        embedding_index[word] = vector\n",
    "\n",
    "# === Step 3: Create embedding matrix ===\n",
    "embedding_dim = 100\n",
    "vocab_size = len(word2idx)\n",
    "\n",
    "embedding_matrix = np.zeros((vocab_size, embedding_dim))\n",
    "for word, i in word2idx.items():\n",
    "    vector = embedding_index.get(word)\n",
    "    if vector is not None:\n",
    "        embedding_matrix[i] = vector\n",
    "    else:\n",
    "        embedding_matrix[i] = np.random.normal(scale=0.6, size=(embedding_dim,))  # for OOV words\n",
    "\n",
    "# === Step 4: Convert to tensor and create embedding layer ===\n",
    "embedding_tensor = torch.tensor(embedding_matrix, dtype=torch.float32)\n",
    "\n",
    "# freeze=False allows fine-tuning the embeddings\n",
    "embedding_layer = nn.Embedding.from_pretrained(embedding_tensor, freeze=False, padding_idx=0)"
   ]
  },
  {
   "cell_type": "code",
   "execution_count": null,
   "metadata": {},
   "outputs": [],
   "source": []
  },
  {
   "cell_type": "code",
   "execution_count": null,
   "metadata": {},
   "outputs": [],
   "source": []
  },
  {
   "cell_type": "code",
   "execution_count": null,
   "metadata": {},
   "outputs": [],
   "source": []
  },
  {
   "cell_type": "code",
   "execution_count": null,
   "metadata": {},
   "outputs": [],
   "source": []
  }
 ],
 "metadata": {
  "kernelspec": {
   "display_name": "venv",
   "language": "python",
   "name": "python3"
  },
  "language_info": {
   "codemirror_mode": {
    "name": "ipython",
    "version": 3
   },
   "file_extension": ".py",
   "mimetype": "text/x-python",
   "name": "python",
   "nbconvert_exporter": "python",
   "pygments_lexer": "ipython3",
   "version": "3.13.3"
  }
 },
 "nbformat": 4,
 "nbformat_minor": 2
}
