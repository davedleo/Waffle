{
 "cells": [
  {
   "cell_type": "code",
   "execution_count": 1,
   "metadata": {},
   "outputs": [
    {
     "name": "stdout",
     "output_type": "stream",
     "text": [
      "/Users/davideleo/Desktop/Projects/research/papers/fl_wavelet_v0\n"
     ]
    }
   ],
   "source": [
    "%cd ../.."
   ]
  },
  {
   "cell_type": "code",
   "execution_count": 2,
   "metadata": {},
   "outputs": [],
   "source": [
    "import random\n",
    "import torch \n",
    "import numpy as np \n",
    "from src.data.cifar100 import get_federation \n",
    "from src.data.attacks import GaussianBlur, GaussianNoise\n",
    "from src.federated_learning.detection.vae import Server, Client\n",
    "from src.models.neural_networks import LeNet5\n",
    "from src.models.metrics import Accuracy, WeightedAccuracy\n",
    "from copy import deepcopy\n",
    "\n",
    "random.seed(42)\n",
    "np.random.seed(42)\n",
    "torch.random.manual_seed(42)\n",
    "\n",
    "# Federation\n",
    "model = LeNet5(in_channels = 3, in_padding = 0, num_classes = 100)\n",
    "\n",
    "federation = get_federation(\n",
    "    num_shards = 100,\n",
    "    alpha = 1000,\n",
    "    attacks = [GaussianNoise(sigma = .5), GaussianBlur(kernel_size = 11)],\n",
    "    attacks_proba = 0.4\n",
    ")\n",
    "\n",
    "clients = [\n",
    "    Client(\n",
    "        train_dataset = dataset[\"train\"],\n",
    "        test_dataset = dataset[\"test\"],\n",
    "        distribution = dataset[\"distribution\"],\n",
    "        batch_size = 64,\n",
    "        device = \"cpu\"\n",
    "    ) for dataset in federation\n",
    "]\n",
    "\n",
    "benign_clients = [client for dataset, client in zip(federation, clients) if len(dataset[\"id\"].split(\".\")) == 1] "
   ]
  },
  {
   "cell_type": "code",
   "execution_count": 3,
   "metadata": {},
   "outputs": [
    {
     "name": "stderr",
     "output_type": "stream",
     "text": [
      "  0%|          | 0/20 [00:00<?, ?it/s]2025-08-04 23:29:43,962 - FEDAVG/Server - INFO - Round 1: training_loss = 0.0323, evaluation_loss = 2.2967\n",
      "  5%|▌         | 1/20 [00:05<01:47,  5.68s/it]2025-08-04 23:29:48,221 - FEDAVG/Server - INFO - Round 2: training_loss = 0.0321, evaluation_loss = 2.2767\n",
      " 10%|█         | 2/20 [00:09<01:27,  4.84s/it]2025-08-04 23:29:52,135 - FEDAVG/Server - INFO - Round 3: training_loss = 0.0318, evaluation_loss = 2.239\n",
      " 15%|█▌        | 3/20 [00:13<01:15,  4.42s/it]2025-08-04 23:29:55,917 - FEDAVG/Server - INFO - Round 4: training_loss = 0.0313, evaluation_loss = 2.178\n",
      " 20%|██        | 4/20 [00:17<01:06,  4.17s/it]2025-08-04 23:29:59,624 - FEDAVG/Server - INFO - Round 5: training_loss = 0.0308, evaluation_loss = 2.1322\n",
      " 25%|██▌       | 5/20 [00:21<01:00,  4.00s/it]2025-08-04 23:30:03,231 - FEDAVG/Server - INFO - Round 6: training_loss = 0.0302, evaluation_loss = 2.0838\n",
      " 30%|███       | 6/20 [00:24<00:54,  3.87s/it]2025-08-04 23:30:06,925 - FEDAVG/Server - INFO - Round 7: training_loss = 0.0297, evaluation_loss = 2.0414\n",
      " 35%|███▌      | 7/20 [00:28<00:49,  3.81s/it]2025-08-04 23:30:10,685 - FEDAVG/Server - INFO - Round 8: training_loss = 0.0297, evaluation_loss = 2.0342\n",
      " 40%|████      | 8/20 [00:32<00:45,  3.79s/it]2025-08-04 23:30:14,297 - FEDAVG/Server - INFO - Round 9: training_loss = 0.0295, evaluation_loss = 2.0158\n",
      " 45%|████▌     | 9/20 [00:36<00:41,  3.74s/it]2025-08-04 23:30:17,774 - FEDAVG/Server - INFO - Round 10: training_loss = 0.0299, evaluation_loss = 2.023\n",
      " 50%|█████     | 10/20 [00:39<00:36,  3.66s/it]2025-08-04 23:30:21,318 - FEDAVG/Server - INFO - Round 11: training_loss = 0.0289, evaluation_loss = 2.005\n",
      " 55%|█████▌    | 11/20 [00:43<00:32,  3.62s/it]2025-08-04 23:30:24,853 - FEDAVG/Server - INFO - Round 12: training_loss = 0.0288, evaluation_loss = 1.9777\n",
      " 60%|██████    | 12/20 [00:46<00:28,  3.60s/it]2025-08-04 23:30:28,198 - FEDAVG/Server - INFO - Round 13: training_loss = 0.029, evaluation_loss = 1.9682\n",
      " 65%|██████▌   | 13/20 [00:49<00:24,  3.52s/it]2025-08-04 23:30:31,873 - FEDAVG/Server - INFO - Round 14: training_loss = 0.0291, evaluation_loss = 1.9721\n",
      " 70%|███████   | 14/20 [00:53<00:21,  3.57s/it]2025-08-04 23:30:35,544 - FEDAVG/Server - INFO - Round 15: training_loss = 0.0288, evaluation_loss = 1.9637\n",
      " 75%|███████▌  | 15/20 [00:57<00:17,  3.60s/it]2025-08-04 23:30:38,954 - FEDAVG/Server - INFO - Round 16: training_loss = 0.0288, evaluation_loss = 1.9639\n",
      " 80%|████████  | 16/20 [01:00<00:14,  3.54s/it]2025-08-04 23:30:42,310 - FEDAVG/Server - INFO - Round 17: training_loss = 0.0284, evaluation_loss = 1.9502\n",
      " 85%|████████▌ | 17/20 [01:04<00:10,  3.49s/it]2025-08-04 23:30:45,768 - FEDAVG/Server - INFO - Round 18: training_loss = 0.0283, evaluation_loss = 1.9441\n",
      " 90%|█████████ | 18/20 [01:07<00:06,  3.48s/it]2025-08-04 23:30:49,313 - FEDAVG/Server - INFO - Round 19: training_loss = 0.0284, evaluation_loss = 1.9406\n",
      " 95%|█████████▌| 19/20 [01:11<00:03,  3.50s/it]2025-08-04 23:30:52,725 - FEDAVG/Server - INFO - Round 20: training_loss = 0.0282, evaluation_loss = 1.9368\n",
      "100%|██████████| 20/20 [01:14<00:00,  3.72s/it]\n"
     ]
    },
    {
     "name": "stdout",
     "output_type": "stream",
     "text": [
      "{'loss': 1.9316258279482523, 'metrics': {'acc': 0.2995000025431315, 'wacc': 0.2995000122288863}}\n"
     ]
    }
   ],
   "source": [
    "import os\n",
    "\n",
    "# Training\n",
    "server = Server(\n",
    "    clients = clients,\n",
    "    participation_rate = 10, \n",
    "    model = deepcopy(model),\n",
    "    vae_path = os.path.join(\"notebooks\", \"cifar100\", \"results\", \"vae.pth\"),\n",
    "    num_features = 200\n",
    ")\n",
    "\n",
    "train_results = server.train(\n",
    "    num_rounds = 20,\n",
    "    num_local_epochs = 1,\n",
    "    criterion = torch.nn.CrossEntropyLoss(),\n",
    "    optimizer_class = torch.optim.Adam, \n",
    "    optimizer_params = {\"lr\": 1e-3},\n",
    "    evaluation_step = 1,\n",
    "    metrics = dict()\n",
    ")\n",
    "\n",
    "# Evaluation \n",
    "server.clients = benign_clients\n",
    "evaluation_results = server.evaluate(\n",
    "    criterion = torch.nn.CrossEntropyLoss(),\n",
    "    metrics = {\"acc\": Accuracy(), \"wacc\": WeightedAccuracy()}\n",
    ")\n",
    "\n",
    "print(evaluation_results[\"server\"])"
   ]
  },
  {
   "cell_type": "code",
   "execution_count": 4,
   "metadata": {},
   "outputs": [],
   "source": [
    "# Count\n",
    "malicious_clients = dict()\n",
    "\n",
    "for k,v in server.malicious_votes.items(): \n",
    "    if len(v) > 0:\n",
    "        malicious_clients[k] = round(sum(v) / len(v))\n",
    "    else:\n",
    "        malicious_clients[k] = 0\n",
    "\n",
    "malicious_clients = np.array([v for v in malicious_clients.values()])"
   ]
  },
  {
   "cell_type": "code",
   "execution_count": 5,
   "metadata": {},
   "outputs": [
    {
     "name": "stdout",
     "output_type": "stream",
     "text": [
      "Accuracy:  0.6\n",
      "Precision:  0.5\n",
      "Recall:   0.025\n",
      "F1-Score:  0.047619047619047616\n",
      "tensor([0, 1])\n"
     ]
    }
   ],
   "source": [
    "from sklearn.metrics import accuracy_score, precision_score, recall_score, f1_score\n",
    "\n",
    "# Setup clients\n",
    "domains_wst = []\n",
    "labels = []\n",
    "\n",
    "for d in federation: \n",
    "    if \".\" in d[\"id\"]: \n",
    "        labels.append(1)\n",
    "    else:\n",
    "        labels.append(0)\n",
    "\n",
    "with torch.no_grad(): \n",
    "    pred = np.zeros(100)\n",
    "    if len(malicious_clients) > 0:\n",
    "        pred[np.array(malicious_clients)] = 1\n",
    "    print(\"Accuracy: \", accuracy_score(labels, pred))\n",
    "    print(\"Precision: \", precision_score(labels, pred, pos_label = 1))\n",
    "    print(\"Recall:  \", recall_score(labels, pred, pos_label = 1))\n",
    "    print(\"F1-Score: \", f1_score(labels, pred, average = \"binary\"))\n",
    "    print(torch.arange(100)[pred == 1])"
   ]
  },
  {
   "cell_type": "code",
   "execution_count": null,
   "metadata": {},
   "outputs": [],
   "source": []
  }
 ],
 "metadata": {
  "kernelspec": {
   "display_name": "venv",
   "language": "python",
   "name": "python3"
  },
  "language_info": {
   "codemirror_mode": {
    "name": "ipython",
    "version": 3
   },
   "file_extension": ".py",
   "mimetype": "text/x-python",
   "name": "python",
   "nbconvert_exporter": "python",
   "pygments_lexer": "ipython3",
   "version": "3.13.3"
  }
 },
 "nbformat": 4,
 "nbformat_minor": 2
}
